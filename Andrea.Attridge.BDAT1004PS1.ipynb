{
 "cells": [
  {
   "cell_type": "markdown",
   "id": "df498b42",
   "metadata": {},
   "source": [
    "BDAT1004 - Winter, 2024 - Tuesday Section - Problem Set 1"
   ]
  },
  {
   "cell_type": "markdown",
   "id": "1d05a86e",
   "metadata": {},
   "source": [
    "Question 1: What data type is each of the following (evaluate where necessary)?\n",
    "\n",
    "5 - integer\n",
    "5.0 - float\n",
    "5 > 1 - boolean (result = true)\n",
    "'5' - string\n",
    "5 * 2 - integer (result = 10)\n",
    "'5' * 2 - string (result = 55)\n",
    "'5' + '2' - string (result = 52)\n",
    "5 / 2 - float (division - result = 2.5)\n",
    "5 % 2 - integer (remainder - result = 1)\n",
    "{5, 2, 1} - set\n",
    "5 == 3 - boolean (resilt = false)\n",
    "Pi (the number) - float"
   ]
  },
  {
   "cell_type": "code",
   "execution_count": 5,
   "id": "ba8e3161",
   "metadata": {},
   "outputs": [
    {
     "data": {
      "text/plain": [
       "True"
      ]
     },
     "execution_count": 5,
     "metadata": {},
     "output_type": "execute_result"
    }
   ],
   "source": [
    "5 > 1"
   ]
  },
  {
   "cell_type": "code",
   "execution_count": 6,
   "id": "fbf2e98c",
   "metadata": {},
   "outputs": [
    {
     "data": {
      "text/plain": [
       "10"
      ]
     },
     "execution_count": 6,
     "metadata": {},
     "output_type": "execute_result"
    }
   ],
   "source": [
    "5 * 2"
   ]
  },
  {
   "cell_type": "code",
   "execution_count": 7,
   "id": "d00cc45b",
   "metadata": {},
   "outputs": [
    {
     "data": {
      "text/plain": [
       "'55'"
      ]
     },
     "execution_count": 7,
     "metadata": {},
     "output_type": "execute_result"
    }
   ],
   "source": [
    "'5' * 2"
   ]
  },
  {
   "cell_type": "code",
   "execution_count": 8,
   "id": "1e061437",
   "metadata": {},
   "outputs": [
    {
     "data": {
      "text/plain": [
       "'52'"
      ]
     },
     "execution_count": 8,
     "metadata": {},
     "output_type": "execute_result"
    }
   ],
   "source": [
    "'5' + '2'"
   ]
  },
  {
   "cell_type": "code",
   "execution_count": 9,
   "id": "724a115c",
   "metadata": {},
   "outputs": [
    {
     "data": {
      "text/plain": [
       "2.5"
      ]
     },
     "execution_count": 9,
     "metadata": {},
     "output_type": "execute_result"
    }
   ],
   "source": [
    "5 / 2"
   ]
  },
  {
   "cell_type": "code",
   "execution_count": 10,
   "id": "4298b24c",
   "metadata": {},
   "outputs": [
    {
     "data": {
      "text/plain": [
       "1"
      ]
     },
     "execution_count": 10,
     "metadata": {},
     "output_type": "execute_result"
    }
   ],
   "source": [
    "5 % 2"
   ]
  },
  {
   "cell_type": "code",
   "execution_count": 11,
   "id": "08775fc6",
   "metadata": {},
   "outputs": [
    {
     "data": {
      "text/plain": [
       "False"
      ]
     },
     "execution_count": 11,
     "metadata": {},
     "output_type": "execute_result"
    }
   ],
   "source": [
    "5 == 3"
   ]
  },
  {
   "cell_type": "markdown",
   "id": "6c2c6f87",
   "metadata": {},
   "source": [
    "Question 2: Write (and evaluate) python expressions that answer these questions:\n",
    "a) How many letters are there in 'Supercalifragilisticexpialidocious'?"
   ]
  },
  {
   "cell_type": "code",
   "execution_count": 14,
   "id": "a9015b1e",
   "metadata": {},
   "outputs": [
    {
     "data": {
      "text/plain": [
       "34"
      ]
     },
     "execution_count": 14,
     "metadata": {},
     "output_type": "execute_result"
    }
   ],
   "source": [
    "len('Supercalifragilisticexpialidocious')"
   ]
  },
  {
   "cell_type": "markdown",
   "id": "dc196a5e",
   "metadata": {},
   "source": [
    "b) Does 'Supercalifragilisticexpialidocious' contain 'ice' as a substring?"
   ]
  },
  {
   "cell_type": "code",
   "execution_count": 15,
   "id": "c99acf54",
   "metadata": {},
   "outputs": [
    {
     "data": {
      "text/plain": [
       "True"
      ]
     },
     "execution_count": 15,
     "metadata": {},
     "output_type": "execute_result"
    }
   ],
   "source": [
    "'ice' in 'Supercalifragilisticexpialidocious'"
   ]
  },
  {
   "cell_type": "markdown",
   "id": "0079e85b",
   "metadata": {},
   "source": [
    "c) Which of the following words is the longest: \n",
    "Supercalifragilisticexpialidocious, Honorificabilitudinitatibus, or Bababadalgharaghtakamminarronnkonn?"
   ]
  },
  {
   "cell_type": "code",
   "execution_count": 16,
   "id": "00dfe22a",
   "metadata": {},
   "outputs": [
    {
     "name": "stdout",
     "output_type": "stream",
     "text": [
      "Supercalifragilisticexpialidocious\n"
     ]
    }
   ],
   "source": [
    "#establish list\n",
    "lst = ['Supercalifragilisticexpialidocious', 'Honorificabilitudinitatibus', 'Bababadalgharaghtakamminarronnkon']\n",
    "\n",
    "#print the largest item in the list\n",
    "print(max(lst))"
   ]
  },
  {
   "cell_type": "markdown",
   "id": "12e473b5",
   "metadata": {},
   "source": [
    "d)  Which composer comes first in the dictionary: 'Berlioz', 'Borodin', 'Brian', \n",
    "'Bartok', 'Bellini', 'Buxtehude', 'Bernstein'. Which one comes last?"
   ]
  },
  {
   "cell_type": "code",
   "execution_count": 21,
   "id": "6ed3a710",
   "metadata": {},
   "outputs": [
    {
     "data": {
      "text/plain": [
       "'Bartok'"
      ]
     },
     "execution_count": 21,
     "metadata": {},
     "output_type": "execute_result"
    }
   ],
   "source": [
    "lst = ['Berlioz', 'Borodin', 'Brian', 'Bartok', 'Bellini', 'Buxtehude', 'Bernstein']\n",
    "\n",
    "#sort list alphabetically\n",
    "lst.sort()\n",
    "\n",
    "#return the list item at index 0 (the first item)\n",
    "lst[0]"
   ]
  },
  {
   "cell_type": "code",
   "execution_count": 22,
   "id": "ba73acb6",
   "metadata": {},
   "outputs": [
    {
     "data": {
      "text/plain": [
       "'Buxtehude'"
      ]
     },
     "execution_count": 22,
     "metadata": {},
     "output_type": "execute_result"
    }
   ],
   "source": [
    "#return the list item at index -1 (the last item)\n",
    "lst[-1]"
   ]
  },
  {
   "cell_type": "markdown",
   "id": "201b005d",
   "metadata": {},
   "source": [
    "Question 3: Implement function triangleArea(a,b,c) that takes as input the lengths of the 3\n",
    "sides of a triangle and returns the area of the triangle."
   ]
  },
  {
   "cell_type": "code",
   "execution_count": 30,
   "id": "e7687ca3",
   "metadata": {},
   "outputs": [
    {
     "name": "stdout",
     "output_type": "stream",
     "text": [
      "1.7320508075688772\n"
     ]
    }
   ],
   "source": [
    "import math\n",
    "\n",
    "def triangleArea(a, b, c):\n",
    "    \n",
    "    #calculate variable s\n",
    "    s = (a+b+c)/2\n",
    "    \n",
    "    #calculate area as t\n",
    "    t = math.sqrt(s*(s-a)*(s-b)*(s-c))\n",
    "    return t\n",
    "\n",
    "#call area function\n",
    "area = triangleArea(2, 2, 2)\n",
    "\n",
    "#print result of function\n",
    "print(area)"
   ]
  },
  {
   "cell_type": "markdown",
   "id": "c38c89e4",
   "metadata": {},
   "source": [
    "Question 4: Write a program in python to separate odd and even integers in separate arrays."
   ]
  },
  {
   "cell_type": "code",
   "execution_count": 36,
   "id": "b9f3a648",
   "metadata": {},
   "outputs": [
    {
     "name": "stdout",
     "output_type": "stream",
     "text": [
      "The even elements are: [42, 56, 32]\n",
      "The odd elements are: [25, 47]\n"
     ]
    }
   ],
   "source": [
    "#establish an empty list to hold the array\n",
    "array = []\n",
    "\n",
    "#insert elements into the array in the specified positions\n",
    "array.insert(0, 25)\n",
    "array.insert(1, 47)\n",
    "array.insert(2, 42)\n",
    "array.insert(3, 56)\n",
    "array.insert(4, 32)\n",
    "\n",
    "#establish empty lists to hold the even and odd numbers\n",
    "even = []\n",
    "odd = []\n",
    "\n",
    "#iterate over the array\n",
    "for i in array:\n",
    "    \n",
    "    #if item divided by two is zero, the number is even - append it onto the even list\n",
    "    if i % 2 == 0:\n",
    "        even.append(i)\n",
    "        \n",
    "    #if item divided by two is not zero, the number is odd - append it onto the odd list\n",
    "    else:\n",
    "        odd.append(i)\n",
    "\n",
    "        \n",
    "#print output statements\n",
    "print('The even elements are: {}'.format(even))\n",
    "print('The odd elements are: {}'.format(odd))"
   ]
  },
  {
   "cell_type": "markdown",
   "id": "bfb69024",
   "metadata": {},
   "source": [
    "Question 5:  \n",
    "a) Write a function inside(x,y,x1,y1,x2,y2) that returns True or False depending on whether the point (x,y) lies in the rectangle with lower left corner (x1,y1) and upper right corner (x2,y2)."
   ]
  },
  {
   "cell_type": "code",
   "execution_count": 38,
   "id": "f3cf6490",
   "metadata": {},
   "outputs": [
    {
     "name": "stdout",
     "output_type": "stream",
     "text": [
      "True\n"
     ]
    }
   ],
   "source": [
    "#define function inside\n",
    "def inside (x, y, x1, y1, x2, y2):\n",
    "    \n",
    "    #if x and y values are between bounds of the rectangle, print True\n",
    "    if x1 <= x <= x2 and y1 <= y <= y2:\n",
    "        print (True)\n",
    "        \n",
    "    #if they are not within the bounds, print False\n",
    "    else:\n",
    "        print (False)\n",
    "\n",
    "rectangle = inside (1,1,0,0,2,3)"
   ]
  },
  {
   "cell_type": "code",
   "execution_count": 39,
   "id": "3277840a",
   "metadata": {},
   "outputs": [
    {
     "name": "stdout",
     "output_type": "stream",
     "text": [
      "False\n"
     ]
    }
   ],
   "source": [
    "#define function inside\n",
    "def inside (x, y, x1, y1, x2, y2):\n",
    "    \n",
    "    #if x and y values are between bounds of the rectangle, print True\n",
    "    if x1 <= x <= x2 and y1 <= y <= y2:\n",
    "        print (True)\n",
    "        \n",
    "    #if they are not within the bounds, print False\n",
    "    else:\n",
    "        print (False)\n",
    "\n",
    "rectangle = inside (-1,-1,0,0,2,3)"
   ]
  },
  {
   "cell_type": "markdown",
   "id": "1b81c3c3",
   "metadata": {},
   "source": [
    "b) Use function inside() from part a. to write an expression that tests whether the point (1,1) lies in both of the following rectangles: one with lower left corner (0.3, 0.5) and upper right corner (1.1, 0.7) and the other with lower left corner (0.5, 0.2) and upper right corner (1.1, 2). "
   ]
  },
  {
   "cell_type": "code",
   "execution_count": 40,
   "id": "8818a8ee",
   "metadata": {},
   "outputs": [
    {
     "name": "stdout",
     "output_type": "stream",
     "text": [
      "False\n"
     ]
    }
   ],
   "source": [
    "#check if point (1,1) is in the first rectangle\n",
    "rectangle = inside (1,1,0.3,0.5,1.1,0.7)"
   ]
  },
  {
   "cell_type": "code",
   "execution_count": 41,
   "id": "7fdc2c19",
   "metadata": {},
   "outputs": [
    {
     "name": "stdout",
     "output_type": "stream",
     "text": [
      "True\n"
     ]
    }
   ],
   "source": [
    "#check if point (1,1) is in the second rectangle\n",
    "rectangle = inside (1,1,0.5,0.2,1.1,2)"
   ]
  },
  {
   "cell_type": "markdown",
   "id": "5739d49a",
   "metadata": {},
   "source": [
    "Question 6: You can turn a word into pig-Latin using the following two rules (simplified):\n",
    "\n",
    "• If the word starts with a consonant, move that letter to the end and append 'ay'. For example, 'happy' becomes 'appyhay' and 'pencil' becomes 'encilpay'.\n",
    "• If the word starts with a vowel, simply append 'way' to the end of the word. \n",
    "\n",
    "For example, 'enter' becomes 'enterway' and 'other' becomes 'otherway' . For our purposes, there are 5 vowels: a, e, i, o, u (so we count y as a consonant).\n",
    "\n",
    "Write a function pig() that takes a word (i.e., a string) as input and returns its pig Latin form. Your function should still work if the input word contains upper case characters. Your output should always be lower case however. "
   ]
  },
  {
   "cell_type": "code",
   "execution_count": 74,
   "id": "eeb07b70",
   "metadata": {},
   "outputs": [
    {
     "name": "stdout",
     "output_type": "stream",
     "text": [
      "atinlay\n"
     ]
    }
   ],
   "source": [
    "def pig(word):\n",
    "    \n",
    "    lower = word.lower()\n",
    "    \n",
    "    if lower[0] in {'a', 'e', 'i', 'o', 'u'}:\n",
    "        pigword = lower + 'way'\n",
    "    else:\n",
    "        pigword = lower[1:] + lower [0] + 'ay'\n",
    "        \n",
    "    return pigword\n",
    "\n",
    "pigword = pig('latin')\n",
    "\n",
    "print (pigword)\n",
    "    "
   ]
  },
  {
   "cell_type": "markdown",
   "id": "a5bd4780",
   "metadata": {},
   "source": [
    "Question 7: File bloodtype1.txt records blood-types of patients (A, B, AB, O or OO) at a clinic. \n",
    "\n",
    "Write a function bldcount() that reads the file with name name and reports (i.e., prints) how many patients there are in each bloodtype."
   ]
  },
  {
   "cell_type": "code",
   "execution_count": 85,
   "id": "de02e4e2",
   "metadata": {
    "scrolled": true
   },
   "outputs": [
    {
     "name": "stdout",
     "output_type": "stream",
     "text": [
      "There are 28 patients with blood type A.\n",
      "There are 14 patients with blood type B.\n",
      "There are 13 patients with blood type AB.\n",
      "There are 15 patients with blood type O.\n",
      "There are 0 patients with blood type OO.\n"
     ]
    }
   ],
   "source": [
    "#define the function\n",
    "def bloodcount(file):\n",
    "    \n",
    "    #open the file\n",
    "    infile = open(file)\n",
    "    \n",
    "    #read the file\n",
    "    types = infile.read()\n",
    "    \n",
    "    #count the instances of each blood type as string variables\n",
    "    a = types.count('A')\n",
    "    b = types.count('B')\n",
    "    ab = types.count('AB')\n",
    "    o = types.count('O')\n",
    "    oo = types.count('OO')\n",
    "    \n",
    "    #return the counts for each string\n",
    "    return a, b, ab, o, oo\n",
    "\n",
    "#run the function for the specified file\n",
    "blood = bloodcount('bloodtype1.txt')\n",
    "\n",
    "#name outputs\n",
    "a, b, ab, o, oo = blood\n",
    "\n",
    "#print results\n",
    "print ('There are {} patients with blood type A.'.format(a))\n",
    "print ('There are {} patients with blood type B.'.format(b))\n",
    "print ('There are {} patients with blood type AB.'.format(ab))\n",
    "print ('There are {} patients with blood type O.'.format(o))\n",
    "print ('There are {} patients with blood type OO.'.format(oo))\n"
   ]
  },
  {
   "cell_type": "markdown",
   "id": "051c33d2",
   "metadata": {},
   "source": [
    "Question 8: Write a function curconv() that takes as input:\n",
    "1. a currency represented using a string (e.g., 'JPY' for the Japanese Yen or 'EUR' for the Euro)\n",
    "2. an amount\n",
    "and then converts and returns the amount in US dollars.\n"
   ]
  },
  {
   "cell_type": "code",
   "execution_count": 100,
   "id": "7a103737",
   "metadata": {},
   "outputs": [
    {
     "name": "stdout",
     "output_type": "stream",
     "text": [
      "6.148272\n"
     ]
    }
   ],
   "source": [
    "def curconv(c,a):\n",
    "    infile = open('currencies.txt')\n",
    "\n",
    "    currencies = infile.read()\n",
    "    lines = currencies.splitlines()\n",
    "    lists = [line.split('\\t') for line in lines]\n",
    "    \n",
    "    country = [row[0] for row in lists].index(c)\n",
    "    converted = a*float(lists[country][1])\n",
    "    \n",
    "    return converted\n",
    "\n",
    "convert = curconv('EUR', 5)\n",
    "print (convert)"
   ]
  },
  {
   "cell_type": "markdown",
   "id": "46e2a1a7",
   "metadata": {},
   "source": [
    "Question 9: Each of the following will cause an exception (an error). Identify what type of exception each will cause.\n",
    "\n",
    "Trying to add incompatible variables, as in adding 6 + ‘a’ - TypeError (trying to add two incompatible variables)\n",
    "\n",
    "Referring to the 12th item of a list that has only 10 items - IndexError (trying to access a value outside of index)\n",
    "\n",
    "Using a value that is out of range for a function’s input, such as calling math.sqrt(-1.0) - ValueError (trying to input value that is outside of function's range of acceptable values)\n",
    "\n",
    "Using an undeclared variable, such as print(x)when x has not been defined - NameError (calling an undefined variable)\n",
    "\n",
    "Trying to open a file that does not exist, such as mistyping the file name or looking in the wrong directory - FileNotFoundError (file does not exist in specified location)"
   ]
  },
  {
   "cell_type": "markdown",
   "id": "8b54a4d9",
   "metadata": {},
   "source": [
    "Question 10: Encryption is the process of hiding the meaning of a text by substituting letters in the message with other letters, according to some system. If the process is successful, no one but the intended recipient can understand the encrypted message. Cryptanalysis refers to attempts to undo the encryption, even if some details of the encryption are unknown (for example, if an encrypted message has been intercepted). The first step of cryptanalysis is often to build up a table of letter frequencies in the encrypted text. \n",
    "\n",
    "Assume that the string letters is already defined as 'abcdefghijklmnopqrstuvwxyz'. Write a function called frequencies() that takes a string as its only parameter, and returns a list of integers, showing the number of times each character appears in the text. Your function may ignore any characters that are not in letters. "
   ]
  },
  {
   "cell_type": "code",
   "execution_count": 117,
   "id": "0e236d16",
   "metadata": {},
   "outputs": [
    {
     "name": "stdout",
     "output_type": "stream",
     "text": [
      "[0, 1, 1, 0, 1, 1, 0, 1, 1, 0, 1, 0, 0, 1, 2, 0, 1, 1, 0, 1, 1, 0, 1, 1, 0, 0]\n"
     ]
    }
   ],
   "source": [
    "#define function\n",
    "def frequencies(string):\n",
    "    \n",
    "    #define which letters will be counted    \n",
    "    letters = 'abcdefghijklmnopqrstuvwxyz'\n",
    "    \n",
    "    #create an empty list for the letters\n",
    "    letters_list = []\n",
    "    \n",
    "    #create the letters list by seperating the items and appending them on a list\n",
    "    for i in letters:\n",
    "        letters_list.append(i)\n",
    "        \n",
    "    #create empty list to store the frequency counts\n",
    "    counts = []\n",
    "    \n",
    "    #for each item in the letters list, count the number of times each item occurs and append it to the counts list\n",
    "    for i in letters_list:\n",
    "        occurence = string.lower().count(i)\n",
    "        counts.append(occurence)\n",
    "    \n",
    "    #return the counts list\n",
    "    return counts\n",
    "\n",
    "frequency = frequencies('The quick brown fox')\n",
    "\n",
    "print (frequency)"
   ]
  }
 ],
 "metadata": {
  "kernelspec": {
   "display_name": "Python 3 (ipykernel)",
   "language": "python",
   "name": "python3"
  },
  "language_info": {
   "codemirror_mode": {
    "name": "ipython",
    "version": 3
   },
   "file_extension": ".py",
   "mimetype": "text/x-python",
   "name": "python",
   "nbconvert_exporter": "python",
   "pygments_lexer": "ipython3",
   "version": "3.11.5"
  }
 },
 "nbformat": 4,
 "nbformat_minor": 5
}
